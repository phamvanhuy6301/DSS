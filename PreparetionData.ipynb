{
 "cells": [
  {
   "cell_type": "code",
   "execution_count": 134,
   "metadata": {},
   "outputs": [],
   "source": [
    "import numpy as np\n",
    "import pandas as pd\n",
    "import os\n",
    "import matplotlib.pyplot as plt\n",
    "import plotly.express as px\n",
    "import seaborn as sns\n",
    "import plotly.express as px\n",
    "import cv2\n",
    "from PIL import Image"
   ]
  },
  {
   "attachments": {},
   "cell_type": "markdown",
   "metadata": {},
   "source": [
    "Định dạng kiểu vẽ đồ thị là seaborn và thiết lập kích thước của các đồ thị"
   ]
  },
  {
   "cell_type": "code",
   "execution_count": 135,
   "metadata": {},
   "outputs": [
    {
     "name": "stderr",
     "output_type": "stream",
     "text": [
      "C:\\Users\\ADMIN\\AppData\\Local\\Temp\\ipykernel_36732\\4225139297.py:1: MatplotlibDeprecationWarning: The seaborn styles shipped by Matplotlib are deprecated since 3.6, as they no longer correspond to the styles shipped by seaborn. However, they will remain available as 'seaborn-v0_8-<style>'. Alternatively, directly use the seaborn API instead.\n",
      "  plt.style.use(\"seaborn\")\n"
     ]
    }
   ],
   "source": [
    "plt.style.use(\"seaborn\")\n",
    "plt.rcParams['figure.figsize'] = (13, 7)"
   ]
  },
  {
   "attachments": {},
   "cell_type": "markdown",
   "metadata": {},
   "source": [
    "# Load data\n"
   ]
  },
  {
   "cell_type": "code",
   "execution_count": 136,
   "metadata": {},
   "outputs": [],
   "source": [
    "data_df = pd.read_csv(r\"C:\\Users\\ADMIN\\OneDrive - Hanoi University of Science and Technology\\2022-2\\Hệ hỗ trợ quyết định\\archive\\book_data.csv\")    "
   ]
  },
  {
   "cell_type": "code",
   "execution_count": 137,
   "metadata": {},
   "outputs": [
    {
     "data": {
      "text/html": [
       "<div>\n",
       "<style scoped>\n",
       "    .dataframe tbody tr th:only-of-type {\n",
       "        vertical-align: middle;\n",
       "    }\n",
       "\n",
       "    .dataframe tbody tr th {\n",
       "        vertical-align: top;\n",
       "    }\n",
       "\n",
       "    .dataframe thead th {\n",
       "        text-align: right;\n",
       "    }\n",
       "</style>\n",
       "<table border=\"1\" class=\"dataframe\">\n",
       "  <thead>\n",
       "    <tr style=\"text-align: right;\">\n",
       "      <th></th>\n",
       "      <th>product_id</th>\n",
       "      <th>title</th>\n",
       "      <th>authors</th>\n",
       "      <th>original_price</th>\n",
       "      <th>current_price</th>\n",
       "      <th>quantity</th>\n",
       "      <th>category</th>\n",
       "      <th>n_review</th>\n",
       "      <th>avg_rating</th>\n",
       "      <th>pages</th>\n",
       "      <th>manufacturer</th>\n",
       "      <th>cover_link</th>\n",
       "    </tr>\n",
       "  </thead>\n",
       "  <tbody>\n",
       "    <tr>\n",
       "      <th>0</th>\n",
       "      <td>74021317</td>\n",
       "      <td>Cây Cam Ngọt Của Tôi</td>\n",
       "      <td>José Mauro de Vasconcelos</td>\n",
       "      <td>108000</td>\n",
       "      <td>64800</td>\n",
       "      <td>53075.0</td>\n",
       "      <td>Tiểu Thuyết</td>\n",
       "      <td>11481</td>\n",
       "      <td>5.0</td>\n",
       "      <td>244</td>\n",
       "      <td>Nhà Xuất Bản Hội Nhà Văn</td>\n",
       "      <td>https://salt.tikicdn.com/ts/product/5e/18/24/2...</td>\n",
       "    </tr>\n",
       "    <tr>\n",
       "      <th>1</th>\n",
       "      <td>74021317</td>\n",
       "      <td>Cây Cam Ngọt Của Tôi</td>\n",
       "      <td>José Mauro de Vasconcelos</td>\n",
       "      <td>108000</td>\n",
       "      <td>64800</td>\n",
       "      <td>53075.0</td>\n",
       "      <td>Tiểu Thuyết</td>\n",
       "      <td>11481</td>\n",
       "      <td>5.0</td>\n",
       "      <td>244</td>\n",
       "      <td>Nhà Xuất Bản Hội Nhà Văn</td>\n",
       "      <td>https://salt.tikicdn.com/ts/product/5e/18/24/2...</td>\n",
       "    </tr>\n",
       "    <tr>\n",
       "      <th>2</th>\n",
       "      <td>184466860</td>\n",
       "      <td>Hành Tinh Của Một Kẻ Nghĩ Nhiều</td>\n",
       "      <td>Nguyễn Đoàn Minh Thư</td>\n",
       "      <td>86000</td>\n",
       "      <td>59900</td>\n",
       "      <td>7929.0</td>\n",
       "      <td>Sách tư duy - Kỹ năng sống</td>\n",
       "      <td>780</td>\n",
       "      <td>4.8</td>\n",
       "      <td>184</td>\n",
       "      <td>Nhà Xuất Bản Thế Giới</td>\n",
       "      <td>https://salt.tikicdn.com/ts/product/d7/99/24/1...</td>\n",
       "    </tr>\n",
       "    <tr>\n",
       "      <th>3</th>\n",
       "      <td>73787185</td>\n",
       "      <td>Những Tù Nhân Của Địa Lý</td>\n",
       "      <td>Tim Marshall</td>\n",
       "      <td>210000</td>\n",
       "      <td>126000</td>\n",
       "      <td>17896.0</td>\n",
       "      <td>Lĩnh vực khác</td>\n",
       "      <td>3623</td>\n",
       "      <td>4.8</td>\n",
       "      <td>430</td>\n",
       "      <td>Nhà Xuất Bản Hội Nhà Văn</td>\n",
       "      <td>https://salt.tikicdn.com/ts/product/8d/96/9e/c...</td>\n",
       "    </tr>\n",
       "    <tr>\n",
       "      <th>4</th>\n",
       "      <td>52789367</td>\n",
       "      <td>Nhà Giả Kim (Tái Bản 2020)</td>\n",
       "      <td>Paulo Coelho</td>\n",
       "      <td>79000</td>\n",
       "      <td>47400</td>\n",
       "      <td>24668.0</td>\n",
       "      <td>Tác phẩm kinh điển</td>\n",
       "      <td>5131</td>\n",
       "      <td>5.0</td>\n",
       "      <td>228</td>\n",
       "      <td>Nhà Xuất Bản Hà Nội</td>\n",
       "      <td>https://salt.tikicdn.com/ts/product/45/3b/fc/a...</td>\n",
       "    </tr>\n",
       "  </tbody>\n",
       "</table>\n",
       "</div>"
      ],
      "text/plain": [
       "   product_id                            title                    authors  \\\n",
       "0    74021317             Cây Cam Ngọt Của Tôi  José Mauro de Vasconcelos   \n",
       "1    74021317             Cây Cam Ngọt Của Tôi  José Mauro de Vasconcelos   \n",
       "2   184466860  Hành Tinh Của Một Kẻ Nghĩ Nhiều       Nguyễn Đoàn Minh Thư   \n",
       "3    73787185         Những Tù Nhân Của Địa Lý               Tim Marshall   \n",
       "4    52789367       Nhà Giả Kim (Tái Bản 2020)               Paulo Coelho   \n",
       "\n",
       "   original_price  current_price  quantity                    category  \\\n",
       "0          108000          64800   53075.0                 Tiểu Thuyết   \n",
       "1          108000          64800   53075.0                 Tiểu Thuyết   \n",
       "2           86000          59900    7929.0  Sách tư duy - Kỹ năng sống   \n",
       "3          210000         126000   17896.0               Lĩnh vực khác   \n",
       "4           79000          47400   24668.0          Tác phẩm kinh điển   \n",
       "\n",
       "   n_review  avg_rating pages              manufacturer  \\\n",
       "0     11481         5.0   244  Nhà Xuất Bản Hội Nhà Văn   \n",
       "1     11481         5.0   244  Nhà Xuất Bản Hội Nhà Văn   \n",
       "2       780         4.8   184     Nhà Xuất Bản Thế Giới   \n",
       "3      3623         4.8   430  Nhà Xuất Bản Hội Nhà Văn   \n",
       "4      5131         5.0   228       Nhà Xuất Bản Hà Nội   \n",
       "\n",
       "                                          cover_link  \n",
       "0  https://salt.tikicdn.com/ts/product/5e/18/24/2...  \n",
       "1  https://salt.tikicdn.com/ts/product/5e/18/24/2...  \n",
       "2  https://salt.tikicdn.com/ts/product/d7/99/24/1...  \n",
       "3  https://salt.tikicdn.com/ts/product/8d/96/9e/c...  \n",
       "4  https://salt.tikicdn.com/ts/product/45/3b/fc/a...  "
      ]
     },
     "execution_count": 137,
     "metadata": {},
     "output_type": "execute_result"
    }
   ],
   "source": [
    "data_df.head()"
   ]
  },
  {
   "cell_type": "code",
   "execution_count": 138,
   "metadata": {},
   "outputs": [
    {
     "name": "stdout",
     "output_type": "stream",
     "text": [
      "<class 'pandas.core.frame.DataFrame'>\n",
      "RangeIndex: 1796 entries, 0 to 1795\n",
      "Data columns (total 12 columns):\n",
      " #   Column          Non-Null Count  Dtype  \n",
      "---  ------          --------------  -----  \n",
      " 0   product_id      1796 non-null   int64  \n",
      " 1   title           1796 non-null   object \n",
      " 2   authors         1653 non-null   object \n",
      " 3   original_price  1796 non-null   int64  \n",
      " 4   current_price   1796 non-null   int64  \n",
      " 5   quantity        1751 non-null   float64\n",
      " 6   category        1796 non-null   object \n",
      " 7   n_review        1796 non-null   int64  \n",
      " 8   avg_rating      1796 non-null   float64\n",
      " 9   pages           1546 non-null   object \n",
      " 10  manufacturer    1523 non-null   object \n",
      " 11  cover_link      1796 non-null   object \n",
      "dtypes: float64(2), int64(4), object(6)\n",
      "memory usage: 168.5+ KB\n"
     ]
    }
   ],
   "source": [
    "data_df.info()"
   ]
  },
  {
   "attachments": {},
   "cell_type": "markdown",
   "metadata": {},
   "source": [
    "# Data preparation"
   ]
  },
  {
   "attachments": {},
   "cell_type": "markdown",
   "metadata": {},
   "source": [
    "Kiểm tra xem dữ liệu từng cột có bao nhiêu giá trị null"
   ]
  },
  {
   "cell_type": "code",
   "execution_count": 139,
   "metadata": {},
   "outputs": [
    {
     "data": {
      "text/plain": [
       "product_id          0\n",
       "title               0\n",
       "authors           143\n",
       "original_price      0\n",
       "current_price       0\n",
       "quantity           45\n",
       "category            0\n",
       "n_review            0\n",
       "avg_rating          0\n",
       "pages             250\n",
       "manufacturer      273\n",
       "cover_link          0\n",
       "dtype: int64"
      ]
     },
     "execution_count": 139,
     "metadata": {},
     "output_type": "execute_result"
    }
   ],
   "source": [
    "data_df.isnull().sum()"
   ]
  },
  {
   "attachments": {},
   "cell_type": "markdown",
   "metadata": {},
   "source": [
    "## Title"
   ]
  },
  {
   "attachments": {},
   "cell_type": "markdown",
   "metadata": {},
   "source": [
    "Xóa các dữ liệu có cùng tiêu đề. "
   ]
  },
  {
   "cell_type": "code",
   "execution_count": 140,
   "metadata": {},
   "outputs": [],
   "source": [
    "data_df = data_df.drop_duplicates(subset=['title'])\n"
   ]
  },
  {
   "attachments": {},
   "cell_type": "markdown",
   "metadata": {},
   "source": [
    "## Authors"
   ]
  },
  {
   "attachments": {},
   "cell_type": "markdown",
   "metadata": {},
   "source": [
    "Số lượng sách của các tác giả có trong cơ sở dữ liệu"
   ]
  },
  {
   "cell_type": "code",
   "execution_count": 141,
   "metadata": {},
   "outputs": [
    {
     "data": {
      "text/plain": [
       "Nguyễn Nhật Ánh    24\n",
       "Higashino Keigo    20\n",
       ".                  18\n",
       "Thích Nhất Hạnh    16\n",
       "Haruki Murakami    15\n",
       "                   ..\n",
       "Urako Kanamori      1\n",
       "Cổ Viên             1\n",
       "Robert Winston      1\n",
       "Yongchul Kwon       1\n",
       "John C. Maxwell     1\n",
       "Name: authors, Length: 1083, dtype: int64"
      ]
     },
     "execution_count": 141,
     "metadata": {},
     "output_type": "execute_result"
    }
   ],
   "source": [
    "data_df.authors.value_counts()"
   ]
  },
  {
   "attachments": {},
   "cell_type": "markdown",
   "metadata": {},
   "source": [
    "Có tới 18 cuốn sách có tác giả là . -> ta sẽ điền tên tác giả này là \"Unknown\"\n"
   ]
  },
  {
   "cell_type": "code",
   "execution_count": 142,
   "metadata": {},
   "outputs": [],
   "source": [
    "data_df.loc[data_df.authors == '.' , 'authors'] = \"Unknown\""
   ]
  },
  {
   "cell_type": "code",
   "execution_count": 143,
   "metadata": {},
   "outputs": [
    {
     "data": {
      "text/plain": [
       "Nguyễn Nhật Ánh    24\n",
       "Higashino Keigo    20\n",
       "Unknown            18\n",
       "Thích Nhất Hạnh    16\n",
       "Haruki Murakami    15\n",
       "                   ..\n",
       "Urako Kanamori      1\n",
       "Cổ Viên             1\n",
       "Robert Winston      1\n",
       "Yongchul Kwon       1\n",
       "John C. Maxwell     1\n",
       "Name: authors, Length: 1083, dtype: int64"
      ]
     },
     "execution_count": 143,
     "metadata": {},
     "output_type": "execute_result"
    }
   ],
   "source": [
    "data_df.authors.value_counts()"
   ]
  },
  {
   "cell_type": "code",
   "execution_count": 144,
   "metadata": {},
   "outputs": [
    {
     "data": {
      "text/plain": [
       "138"
      ]
     },
     "execution_count": 144,
     "metadata": {},
     "output_type": "execute_result"
    }
   ],
   "source": [
    "data_df.authors.isnull().sum()\n"
   ]
  },
  {
   "attachments": {},
   "cell_type": "markdown",
   "metadata": {},
   "source": [
    "Cột authors có tới 138 giá trị null, ta sẽ cũng sẽ đặt là \"Unknown\" cho các bản ghi này. '"
   ]
  },
  {
   "cell_type": "code",
   "execution_count": 145,
   "metadata": {},
   "outputs": [
    {
     "data": {
      "text/plain": [
       "Unknown            156\n",
       "Nguyễn Nhật Ánh     24\n",
       "Higashino Keigo     20\n",
       "Thích Nhất Hạnh     16\n",
       "Haruki Murakami     15\n",
       "                  ... \n",
       "Urako Kanamori       1\n",
       "Cổ Viên              1\n",
       "Robert Winston       1\n",
       "Yongchul Kwon        1\n",
       "John C. Maxwell      1\n",
       "Name: authors, Length: 1083, dtype: int64"
      ]
     },
     "execution_count": 145,
     "metadata": {},
     "output_type": "execute_result"
    }
   ],
   "source": [
    "data_df.authors = data_df.authors.fillna(\"Unknown\")\n",
    "data_df.authors.value_counts()"
   ]
  },
  {
   "attachments": {},
   "cell_type": "markdown",
   "metadata": {},
   "source": [
    "## Quantity"
   ]
  },
  {
   "cell_type": "code",
   "execution_count": 146,
   "metadata": {},
   "outputs": [
    {
     "data": {
      "text/plain": [
       "41"
      ]
     },
     "execution_count": 146,
     "metadata": {},
     "output_type": "execute_result"
    }
   ],
   "source": [
    "data_df.quantity.isnull().sum()"
   ]
  },
  {
   "attachments": {},
   "cell_type": "markdown",
   "metadata": {},
   "source": [
    "Có 41 cuốn sách không có dữ liệu về doanh số, ta sẽ drop các bản ghi này"
   ]
  },
  {
   "cell_type": "code",
   "execution_count": 147,
   "metadata": {},
   "outputs": [],
   "source": [
    "data_df.dropna(subset=['quantity'], inplace=True)\n"
   ]
  },
  {
   "attachments": {},
   "cell_type": "markdown",
   "metadata": {},
   "source": [
    "## Category"
   ]
  },
  {
   "cell_type": "code",
   "execution_count": 148,
   "metadata": {},
   "outputs": [
    {
     "data": {
      "text/plain": [
       "Sách tư duy - Kỹ năng sống                 280\n",
       "Tiểu Thuyết                                127\n",
       "Truyện ngắn - Tản văn - Tạp Văn            109\n",
       "Sách nghệ thuật sống đẹp                    57\n",
       "Sách kỹ năng làm việc                       53\n",
       "                                          ... \n",
       "Shaman King - Tập 19                         1\n",
       "Blue Period - Tập 07                         1\n",
       "Komi - Nữ Thần Sợ Giao Tiếp - Tập 14         1\n",
       "Bên Rặng Tuyết Sơn (Tái Bản)                 1\n",
       "Kaguya-Sama: Cuộc Chiến Tỏ Tình - Tập 3      1\n",
       "Name: category, Length: 350, dtype: int64"
      ]
     },
     "execution_count": 148,
     "metadata": {},
     "output_type": "execute_result"
    }
   ],
   "source": [
    "data_df.category.value_counts()\n"
   ]
  },
  {
   "cell_type": "code",
   "execution_count": 149,
   "metadata": {},
   "outputs": [
    {
     "data": {
      "text/plain": [
       "61"
      ]
     },
     "execution_count": 149,
     "metadata": {},
     "output_type": "execute_result"
    }
   ],
   "source": [
    "sum_category1 = np.where(data_df.category.value_counts() > 2, 1, 0)\n",
    "sum_category1.sum()"
   ]
  },
  {
   "attachments": {},
   "cell_type": "markdown",
   "metadata": {},
   "source": [
    "Có nhiều thể loại có thể viết sai trong quá trinh thu thập dữ liệu \\\n",
    "Ta sẽ chỉ lấy 61 thể loại đầu tiên, còn lại ta sẽ đặt là \"Others\""
   ]
  },
  {
   "cell_type": "code",
   "execution_count": 150,
   "metadata": {},
   "outputs": [
    {
     "data": {
      "text/plain": [
       "['Tiểu Thuyết',\n",
       " 'Truyện ngắn - Tản văn - Tạp Văn',\n",
       " 'Sách nghệ thuật sống đẹp',\n",
       " 'Sách kỹ năng làm việc',\n",
       " 'Bài học kinh doanh',\n",
       " 'Truyện trinh thám',\n",
       " 'Sách Học Tiếng Anh',\n",
       " 'Sách Marketing - Bán hàng ',\n",
       " 'Tác phẩm kinh điển',\n",
       " 'Truyện Giả tưởng - Huyền Bí - Phiêu Lưu',\n",
       " 'Sách tài chính, tiền tệ',\n",
       " 'Kiến thức - Bách khoa',\n",
       " 'Sách Làm Cha Mẹ',\n",
       " 'Lĩnh vực khác',\n",
       " 'Truyện dài',\n",
       " 'Kiến Thức Bách Khoa',\n",
       " 'Văn học thiếu nhi',\n",
       " 'Light novel',\n",
       " 'Truyện đam mỹ',\n",
       " 'Truyện kể cho bé',\n",
       " 'Sách quản trị, lãnh đạo',\n",
       " 'Tiểu sử - Hồi ký',\n",
       " 'Lịch Sử Thế Giới',\n",
       " 'Sách Chiêm Tinh - Horoscope',\n",
       " 'Truyện tranh Ehon',\n",
       " 'Sách Học Tiếng Hoa',\n",
       " 'Sách kinh tế học',\n",
       " 'Sách giáo dục',\n",
       " 'Tô màu - Luyện chữ  ',\n",
       " 'Thơ',\n",
       " 'Truyện tranh thiếu nhi',\n",
       " 'Sách khởi nghiệp',\n",
       " 'Triết Học',\n",
       " 'Sách Nấu ăn',\n",
       " 'Sách Luyện Thi Đại Học - Cao Đẳng',\n",
       " 'Lịch Sử Việt Nam',\n",
       " 'Du ký',\n",
       " 'Sách Tâm Lý Tuổi Teen',\n",
       " 'Mỹ Thuật - Kiến Trúc',\n",
       " 'Truyện ngôn tình',\n",
       " 'Sách Hôn Nhân - Giới Tính',\n",
       " 'Truyện kinh dị',\n",
       " 'Tranh Truyện',\n",
       " 'Sách doanh nhân',\n",
       " 'Sách Địa Danh - Du Lịch',\n",
       " 'Sách quản trị nhân lực',\n",
       " 'Truyện cổ tích',\n",
       " 'Sách Học Tiếng Hàn',\n",
       " 'Sách Danh Nhân',\n",
       " 'Sách Phong Thủy - Kinh Dịch',\n",
       " 'Sách hướng nghiệp - Kỹ năng mềm',\n",
       " 'Chăm sóc sức khỏe',\n",
       " 'Đạo đức - Kỹ năng sống',\n",
       " 'Sách Làm Đẹp',\n",
       " 'Truyện cười',\n",
       " 'Sách tham khảo cấp III',\n",
       " 'Sách Phong Tục - Tập Quán',\n",
       " 'Phóng sự - Ký sự - Bút ký',\n",
       " 'Sách Tô Màu Dành Cho Người Lớn',\n",
       " 'Giáo Trình Đại Học - Cao Đẳng']"
      ]
     },
     "execution_count": 150,
     "metadata": {},
     "output_type": "execute_result"
    }
   ],
   "source": [
    "keeping_values = list(pd.DataFrame(data_df.category.value_counts()[1:61]).T.columns)\n",
    "keeping_values"
   ]
  },
  {
   "cell_type": "code",
   "execution_count": 151,
   "metadata": {},
   "outputs": [],
   "source": [
    "def handle_category(category):\n",
    "    if category not in keeping_values:\n",
    "        return \"Others\"\n",
    "    return category"
   ]
  },
  {
   "cell_type": "code",
   "execution_count": 152,
   "metadata": {},
   "outputs": [],
   "source": [
    "data_df.category = data_df.category.apply(lambda category: handle_category(category))"
   ]
  },
  {
   "cell_type": "code",
   "execution_count": 153,
   "metadata": {},
   "outputs": [
    {
     "data": {
      "text/plain": [
       "Others                             577\n",
       "Tiểu Thuyết                        127\n",
       "Truyện ngắn - Tản văn - Tạp Văn    109\n",
       "Sách nghệ thuật sống đẹp            57\n",
       "Bài học kinh doanh                  53\n",
       "                                  ... \n",
       "Đạo đức - Kỹ năng sống               3\n",
       "Sách Tô Màu Dành Cho Người Lớn       3\n",
       "Truyện cười                          3\n",
       "Chăm sóc sức khỏe                    3\n",
       "Sách tham khảo cấp III               3\n",
       "Name: category, Length: 61, dtype: int64"
      ]
     },
     "execution_count": 153,
     "metadata": {},
     "output_type": "execute_result"
    }
   ],
   "source": [
    "data_df.category.value_counts()"
   ]
  },
  {
   "attachments": {},
   "cell_type": "markdown",
   "metadata": {},
   "source": [
    "## Page\n"
   ]
  },
  {
   "cell_type": "code",
   "execution_count": 154,
   "metadata": {},
   "outputs": [
    {
     "data": {
      "text/plain": [
       "232"
      ]
     },
     "execution_count": 154,
     "metadata": {},
     "output_type": "execute_result"
    }
   ],
   "source": [
    "data_df.pages.isnull().sum()"
   ]
  },
  {
   "attachments": {},
   "cell_type": "markdown",
   "metadata": {},
   "source": [
    "Có tới 232 cuốn sách bị thiếu dữ liệu về số trang. Tiếp theo ta sẽ điền số trang của còn thiếu là giá trị trung bình. "
   ]
  },
  {
   "cell_type": "code",
   "execution_count": 155,
   "metadata": {},
   "outputs": [
    {
     "data": {
      "text/html": [
       "<div>\n",
       "<style scoped>\n",
       "    .dataframe tbody tr th:only-of-type {\n",
       "        vertical-align: middle;\n",
       "    }\n",
       "\n",
       "    .dataframe tbody tr th {\n",
       "        vertical-align: top;\n",
       "    }\n",
       "\n",
       "    .dataframe thead th {\n",
       "        text-align: right;\n",
       "    }\n",
       "</style>\n",
       "<table border=\"1\" class=\"dataframe\">\n",
       "  <thead>\n",
       "    <tr style=\"text-align: right;\">\n",
       "      <th></th>\n",
       "      <th>product_id</th>\n",
       "      <th>title</th>\n",
       "      <th>authors</th>\n",
       "      <th>original_price</th>\n",
       "      <th>current_price</th>\n",
       "      <th>quantity</th>\n",
       "      <th>category</th>\n",
       "      <th>n_review</th>\n",
       "      <th>avg_rating</th>\n",
       "      <th>pages</th>\n",
       "      <th>manufacturer</th>\n",
       "      <th>cover_link</th>\n",
       "    </tr>\n",
       "  </thead>\n",
       "  <tbody>\n",
       "    <tr>\n",
       "      <th>1266</th>\n",
       "      <td>197639028</td>\n",
       "      <td>Động Từ Bất Quy Tắc Và Ngữ Pháp Tiếng Anh Căn Bản</td>\n",
       "      <td>Mai Lan Hương</td>\n",
       "      <td>18000</td>\n",
       "      <td>12000</td>\n",
       "      <td>136.0</td>\n",
       "      <td>Sách Học Tiếng Anh</td>\n",
       "      <td>2</td>\n",
       "      <td>5.0</td>\n",
       "      <td>Cuốn</td>\n",
       "      <td>Nhà Xuất Bản Đà Nẵng</td>\n",
       "      <td>https://salt.tikicdn.com/ts/product/28/8e/9e/0...</td>\n",
       "    </tr>\n",
       "  </tbody>\n",
       "</table>\n",
       "</div>"
      ],
      "text/plain": [
       "      product_id                                              title  \\\n",
       "1266   197639028  Động Từ Bất Quy Tắc Và Ngữ Pháp Tiếng Anh Căn Bản   \n",
       "\n",
       "            authors  original_price  current_price  quantity  \\\n",
       "1266  Mai Lan Hương           18000          12000     136.0   \n",
       "\n",
       "                category  n_review  avg_rating pages          manufacturer  \\\n",
       "1266  Sách Học Tiếng Anh         2         5.0  Cuốn  Nhà Xuất Bản Đà Nẵng   \n",
       "\n",
       "                                             cover_link  \n",
       "1266  https://salt.tikicdn.com/ts/product/28/8e/9e/0...  "
      ]
     },
     "execution_count": 155,
     "metadata": {},
     "output_type": "execute_result"
    }
   ],
   "source": [
    "data_df.query('pages == \"Cuốn\"')\n"
   ]
  },
  {
   "cell_type": "code",
   "execution_count": 158,
   "metadata": {},
   "outputs": [],
   "source": [
    "data_df = data_df.drop(data_df[data_df['pages'] == 'Cuốn'].index)"
   ]
  },
  {
   "cell_type": "code",
   "execution_count": 159,
   "metadata": {},
   "outputs": [
    {
     "data": {
      "text/html": [
       "<div>\n",
       "<style scoped>\n",
       "    .dataframe tbody tr th:only-of-type {\n",
       "        vertical-align: middle;\n",
       "    }\n",
       "\n",
       "    .dataframe tbody tr th {\n",
       "        vertical-align: top;\n",
       "    }\n",
       "\n",
       "    .dataframe thead th {\n",
       "        text-align: right;\n",
       "    }\n",
       "</style>\n",
       "<table border=\"1\" class=\"dataframe\">\n",
       "  <thead>\n",
       "    <tr style=\"text-align: right;\">\n",
       "      <th></th>\n",
       "      <th>product_id</th>\n",
       "      <th>title</th>\n",
       "      <th>authors</th>\n",
       "      <th>original_price</th>\n",
       "      <th>current_price</th>\n",
       "      <th>quantity</th>\n",
       "      <th>category</th>\n",
       "      <th>n_review</th>\n",
       "      <th>avg_rating</th>\n",
       "      <th>pages</th>\n",
       "      <th>manufacturer</th>\n",
       "      <th>cover_link</th>\n",
       "    </tr>\n",
       "  </thead>\n",
       "  <tbody>\n",
       "  </tbody>\n",
       "</table>\n",
       "</div>"
      ],
      "text/plain": [
       "Empty DataFrame\n",
       "Columns: [product_id, title, authors, original_price, current_price, quantity, category, n_review, avg_rating, pages, manufacturer, cover_link]\n",
       "Index: []"
      ]
     },
     "execution_count": 159,
     "metadata": {},
     "output_type": "execute_result"
    }
   ],
   "source": [
    "data_df.query('pages == \"Cuốn\"')\n"
   ]
  },
  {
   "cell_type": "code",
   "execution_count": 161,
   "metadata": {},
   "outputs": [
    {
     "data": {
      "text/html": [
       "<div>\n",
       "<style scoped>\n",
       "    .dataframe tbody tr th:only-of-type {\n",
       "        vertical-align: middle;\n",
       "    }\n",
       "\n",
       "    .dataframe tbody tr th {\n",
       "        vertical-align: top;\n",
       "    }\n",
       "\n",
       "    .dataframe thead th {\n",
       "        text-align: right;\n",
       "    }\n",
       "</style>\n",
       "<table border=\"1\" class=\"dataframe\">\n",
       "  <thead>\n",
       "    <tr style=\"text-align: right;\">\n",
       "      <th></th>\n",
       "      <th>product_id</th>\n",
       "      <th>title</th>\n",
       "      <th>authors</th>\n",
       "      <th>original_price</th>\n",
       "      <th>current_price</th>\n",
       "      <th>quantity</th>\n",
       "      <th>category</th>\n",
       "      <th>n_review</th>\n",
       "      <th>avg_rating</th>\n",
       "      <th>pages</th>\n",
       "      <th>manufacturer</th>\n",
       "      <th>cover_link</th>\n",
       "    </tr>\n",
       "  </thead>\n",
       "  <tbody>\n",
       "    <tr>\n",
       "      <th>650</th>\n",
       "      <td>201687274</td>\n",
       "      <td>Có Một Nổi Buồn Vừa Ngang Qua Đây</td>\n",
       "      <td>Gã</td>\n",
       "      <td>88000</td>\n",
       "      <td>64900</td>\n",
       "      <td>114.0</td>\n",
       "      <td>Truyện ngắn - Tản văn - Tạp Văn</td>\n",
       "      <td>6</td>\n",
       "      <td>5.0</td>\n",
       "      <td>192000</td>\n",
       "      <td>Nhà Xuất Bản Văn Học</td>\n",
       "      <td>https://salt.tikicdn.com/ts/product/08/fd/a5/0...</td>\n",
       "    </tr>\n",
       "  </tbody>\n",
       "</table>\n",
       "</div>"
      ],
      "text/plain": [
       "     product_id                              title authors  original_price  \\\n",
       "650   201687274  Có Một Nổi Buồn Vừa Ngang Qua Đây      Gã           88000   \n",
       "\n",
       "     current_price  quantity                         category  n_review  \\\n",
       "650          64900     114.0  Truyện ngắn - Tản văn - Tạp Văn         6   \n",
       "\n",
       "     avg_rating   pages          manufacturer  \\\n",
       "650         5.0  192000  Nhà Xuất Bản Văn Học   \n",
       "\n",
       "                                            cover_link  \n",
       "650  https://salt.tikicdn.com/ts/product/08/fd/a5/0...  "
      ]
     },
     "execution_count": 161,
     "metadata": {},
     "output_type": "execute_result"
    }
   ],
   "source": [
    "data_df.query('pages == \"192000\"')\n",
    "\n"
   ]
  },
  {
   "cell_type": "code",
   "execution_count": 164,
   "metadata": {},
   "outputs": [],
   "source": [
    "data_df = data_df.drop(data_df[data_df['pages'] == '192000'].index)"
   ]
  },
  {
   "cell_type": "code",
   "execution_count": 165,
   "metadata": {},
   "outputs": [
    {
     "data": {
      "text/html": [
       "<div>\n",
       "<style scoped>\n",
       "    .dataframe tbody tr th:only-of-type {\n",
       "        vertical-align: middle;\n",
       "    }\n",
       "\n",
       "    .dataframe tbody tr th {\n",
       "        vertical-align: top;\n",
       "    }\n",
       "\n",
       "    .dataframe thead th {\n",
       "        text-align: right;\n",
       "    }\n",
       "</style>\n",
       "<table border=\"1\" class=\"dataframe\">\n",
       "  <thead>\n",
       "    <tr style=\"text-align: right;\">\n",
       "      <th></th>\n",
       "      <th>product_id</th>\n",
       "      <th>title</th>\n",
       "      <th>authors</th>\n",
       "      <th>original_price</th>\n",
       "      <th>current_price</th>\n",
       "      <th>quantity</th>\n",
       "      <th>category</th>\n",
       "      <th>n_review</th>\n",
       "      <th>avg_rating</th>\n",
       "      <th>pages</th>\n",
       "      <th>manufacturer</th>\n",
       "      <th>cover_link</th>\n",
       "    </tr>\n",
       "  </thead>\n",
       "  <tbody>\n",
       "  </tbody>\n",
       "</table>\n",
       "</div>"
      ],
      "text/plain": [
       "Empty DataFrame\n",
       "Columns: [product_id, title, authors, original_price, current_price, quantity, category, n_review, avg_rating, pages, manufacturer, cover_link]\n",
       "Index: []"
      ]
     },
     "execution_count": 165,
     "metadata": {},
     "output_type": "execute_result"
    }
   ],
   "source": [
    "data_df.query('pages == \"192000\"')\n"
   ]
  },
  {
   "cell_type": "code",
   "execution_count": 166,
   "metadata": {},
   "outputs": [],
   "source": [
    "def handle_pages(lst_pages):\n",
    "    lst_int = []\n",
    "    for page in lst_pages:\n",
    "        try:\n",
    "            lst_int.append(int(page))\n",
    "        except:\n",
    "            continue\n",
    "            \n",
    "    return np.mean(lst_int)"
   ]
  },
  {
   "cell_type": "code",
   "execution_count": 168,
   "metadata": {},
   "outputs": [],
   "source": [
    "mean_pages = handle_pages(list(data_df.pages))\n",
    "data_df.pages = data_df.pages.fillna(str(mean_pages))\n"
   ]
  },
  {
   "cell_type": "code",
   "execution_count": 169,
   "metadata": {},
   "outputs": [],
   "source": [
    "data_df.pages = data_df.pages.apply(lambda page: round(float(page)))\n",
    "data_df.pages = data_df.pages.astype(\"int64\")"
   ]
  },
  {
   "cell_type": "code",
   "execution_count": 170,
   "metadata": {},
   "outputs": [
    {
     "data": {
      "text/plain": [
       "count    1726.000000\n",
       "mean      329.754345\n",
       "std       175.509141\n",
       "min        10.000000\n",
       "25%       220.000000\n",
       "50%       330.000000\n",
       "75%       392.000000\n",
       "max      2004.000000\n",
       "Name: pages, dtype: float64"
      ]
     },
     "execution_count": 170,
     "metadata": {},
     "output_type": "execute_result"
    }
   ],
   "source": [
    "data_df.pages.describe()\n"
   ]
  },
  {
   "attachments": {},
   "cell_type": "markdown",
   "metadata": {},
   "source": [
    "## Nhà xuất bản"
   ]
  },
  {
   "cell_type": "code",
   "execution_count": 173,
   "metadata": {},
   "outputs": [
    {
     "data": {
      "text/plain": [
       "Nhà Xuất Bản Thế Giới                            241\n",
       "NXB Trẻ                                          143\n",
       "Nhà Xuất Bản Hà Nội                              124\n",
       "Nhà Xuất Bản Dân Trí                             121\n",
       "Nhà Xuất Bản Kim Đồng                            111\n",
       "Nhà Xuất Bản Hội Nhà Văn                         105\n",
       "Nhà Xuất Bản Thanh Niên                           95\n",
       "Nhà Xuất Bản Tổng hợp TP.HCM                      89\n",
       "Nhà Xuất Bản Lao Động                             87\n",
       "Nhà Xuất Bản Văn Học                              76\n",
       "Nhà Xuất Bản Hồng Đức                             53\n",
       "Nhà Xuất Bản Công Thương                          44\n",
       "Nhà Xuất Bản Phụ Nữ Việt Nam                      38\n",
       "Nhà Xuất Bản Phụ Nữ                               30\n",
       "Nhà Xuất Bản Đà Nẵng                              16\n",
       "Nhà Xuất Bản Đại Học Quốc Gia Hà Nội              12\n",
       "Nhà Xuất Bản Mỹ Thuật                              8\n",
       "Nhà Xuất Bản Tri Thức                              7\n",
       "Nhà Xuất Bản Lao Động Xã Hội                       7\n",
       "Nhiều Nhà Xuất Bản                                 5\n",
       "NXB Dân Trí                                        5\n",
       "Nhà Xuất Bản Tài Chính                             5\n",
       "Nhà Xuất Bản Khoa Học Xã Hội                       5\n",
       "Nhà Xuất Bản Văn Hóa - Văn Nghệ TP.HCM             3\n",
       "Nhà Xuất Bản Kinh Tế TPHCM                         3\n",
       "Nhà Xuất Bản Thông Tin Và Truyền Thông             3\n",
       "hong duc                                           3\n",
       "Nhà Xuất Bản Đồng Nai                              3\n",
       "Nhà Xuất Bản Thông Tấn                             2\n",
       "Nhà Xuất Bản Đại Học Kinh Tế Quốc Dân              2\n",
       "NXB Đại học Kinh Tế Quốc Dân                       2\n",
       "Forbes Việt Nam                                    2\n",
       "Nhà Xuất Bản Chính Trị Quốc Gia Sự Thật            2\n",
       "Nhà Xuất Bản Khoa học & kỹ thuật                   2\n",
       "Nhà Xuất Bản Tôn Giáo                              2\n",
       "Nhà Xuất Bản Văn Hoá Dân Tộc                       1\n",
       "ĐHQG Hà Nội                                        1\n",
       "Nhà Xuất Bản Hồng Đức - Hội Luật Gia Việt Nam      1\n",
       "Nhà Xuất Bản Compass Publishing                    1\n",
       "Nhà Xuất Bản Thời Đại                              1\n",
       "Nhà Xuất Bản Giáo Dục Việt Nam                     1\n",
       "Name: manufacturer, dtype: int64"
      ]
     },
     "execution_count": 173,
     "metadata": {},
     "output_type": "execute_result"
    }
   ],
   "source": [
    "data_df.manufacturer.value_counts()"
   ]
  },
  {
   "attachments": {},
   "cell_type": "markdown",
   "metadata": {},
   "source": [
    "Có một vài nhà xuất bản là cùng một nơi nhưng do đánh máy khác nhau nên sẽ trở thành 2 bản ghi khác nhau. \\\n",
    "Đó là: \n",
    "- Nhà Xuất Bản Hồng Đức & hong duc\n",
    "- Nhà Xuất Bản Dân Trí & NXB Dân Trí\n",
    "- Nhà Xuất Bản Đại Học Quốc Gia Hà Nội & ĐHQG Hà Nội\n"
   ]
  },
  {
   "cell_type": "code",
   "execution_count": 174,
   "metadata": {},
   "outputs": [],
   "source": [
    "def handle_manufactuner(manufactuner):\n",
    "    if manufactuner == \"hong duc\":\n",
    "        return \"Nhà Xuất Bản Hồng Đức\"\n",
    "    elif manufactuner == \"NXB Dân Trí\":\n",
    "        return \"Nhà Xuất Bản Dân Trí\"\n",
    "    elif manufactuner == \"ĐHQG Hà Nội\":\n",
    "        return \"Nhà Xuất Bản Đại Học Quốc Gia Hà Nội\"\n",
    "    else:\n",
    "        return manufactuner\n",
    "data_df.manufacturer = data_df.manufacturer.apply(lambda manufacturer: handle_manufactuner(manufacturer))\n"
   ]
  },
  {
   "cell_type": "code",
   "execution_count": 176,
   "metadata": {},
   "outputs": [
    {
     "data": {
      "text/plain": [
       "264"
      ]
     },
     "execution_count": 176,
     "metadata": {},
     "output_type": "execute_result"
    }
   ],
   "source": [
    "data_df.manufacturer.isnull().sum()"
   ]
  },
  {
   "attachments": {},
   "cell_type": "markdown",
   "metadata": {},
   "source": [
    "Có tới 264 bản ghi k chứa thông tin của nhà xuất bản, các giá trị này ta sẽ đặt là \"Unknown\". "
   ]
  },
  {
   "cell_type": "code",
   "execution_count": 177,
   "metadata": {},
   "outputs": [],
   "source": [
    "data_df.manufacturer = data_df.manufacturer.fillna(\"Unknown\")"
   ]
  },
  {
   "attachments": {},
   "cell_type": "markdown",
   "metadata": {},
   "source": [
    "## Xử lý dữ liệu về giá bán. \n"
   ]
  },
  {
   "attachments": {},
   "cell_type": "markdown",
   "metadata": {},
   "source": [
    "Tạo thêm cột mới chứa giá trị của giá đã giảm so với giá ban đầu. "
   ]
  },
  {
   "cell_type": "code",
   "execution_count": 178,
   "metadata": {},
   "outputs": [],
   "source": [
    "data_df['discount'] = round(1 - data_df['current_price']/data_df['original_price'],2)\n"
   ]
  },
  {
   "cell_type": "code",
   "execution_count": 179,
   "metadata": {},
   "outputs": [
    {
     "name": "stdout",
     "output_type": "stream",
     "text": [
      "<class 'pandas.core.frame.DataFrame'>\n",
      "Int64Index: 1726 entries, 0 to 1795\n",
      "Data columns (total 13 columns):\n",
      " #   Column          Non-Null Count  Dtype  \n",
      "---  ------          --------------  -----  \n",
      " 0   product_id      1726 non-null   int64  \n",
      " 1   title           1726 non-null   object \n",
      " 2   authors         1726 non-null   object \n",
      " 3   original_price  1726 non-null   int64  \n",
      " 4   current_price   1726 non-null   int64  \n",
      " 5   quantity        1726 non-null   float64\n",
      " 6   category        1726 non-null   object \n",
      " 7   n_review        1726 non-null   int64  \n",
      " 8   avg_rating      1726 non-null   float64\n",
      " 9   pages           1726 non-null   int64  \n",
      " 10  manufacturer    1726 non-null   object \n",
      " 11  cover_link      1726 non-null   object \n",
      " 12  discount        1725 non-null   float64\n",
      "dtypes: float64(3), int64(5), object(5)\n",
      "memory usage: 188.8+ KB\n"
     ]
    }
   ],
   "source": [
    "data_df.info()\n"
   ]
  },
  {
   "cell_type": "code",
   "execution_count": 186,
   "metadata": {},
   "outputs": [],
   "source": [
    "data_df.title = data_df.title.astype(\"string\")\n",
    "data_df.authors = data_df.authors.astype(\"string\")\n",
    "data_df.category = data_df.category.astype(\"string\")\n",
    "data_df.manufacturer = data_df.manufacturer.astype(\"string\")\n",
    "data_df.cover_link = data_df.cover_link.astype(\"string\")\n",
    "\n",
    "data_df.quantity = data_df.quantity.apply(lambda quantity: round(float(quantity)))\n",
    "data_df.quantity = data_df.quantity.astype(\"int64\")"
   ]
  },
  {
   "cell_type": "code",
   "execution_count": null,
   "metadata": {},
   "outputs": [],
   "source": [
    "data_df.to_csv(\"prepared_data_book.csv\")\n"
   ]
  }
 ],
 "metadata": {
  "kernelspec": {
   "display_name": "Python 3",
   "language": "python",
   "name": "python3"
  },
  "language_info": {
   "codemirror_mode": {
    "name": "ipython",
    "version": 3
   },
   "file_extension": ".py",
   "mimetype": "text/x-python",
   "name": "python",
   "nbconvert_exporter": "python",
   "pygments_lexer": "ipython3",
   "version": "3.10.6"
  },
  "orig_nbformat": 4
 },
 "nbformat": 4,
 "nbformat_minor": 2
}
